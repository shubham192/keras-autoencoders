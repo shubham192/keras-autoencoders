{
 "cells": [
  {
   "cell_type": "code",
   "execution_count": 1,
   "metadata": {},
   "outputs": [
    {
     "name": "stdout",
     "output_type": "stream",
     "text": [
      "/home/shubham/anaconda3/envs/annotation_venv/bin/python\n"
     ]
    },
    {
     "name": "stderr",
     "output_type": "stream",
     "text": [
      "Using TensorFlow backend.\n"
     ]
    }
   ],
   "source": [
    "import sys\n",
    "print(sys.executable)\n",
    "\n",
    "from keras.layers import Input, Dense\n",
    "from keras.models import Model"
   ]
  },
  {
   "cell_type": "code",
   "execution_count": 2,
   "metadata": {
    "collapsed": true
   },
   "outputs": [],
   "source": [
    "encoding_dim = 32\n",
    "input_img = Input(shape=(784,))\n",
    "encoded = Dense(encoding_dim, activation='relu')(input_img)\n",
    "decoded = Dense(784, activation='sigmoid')(encoded)\n",
    "\n",
    "autoencoder = Model(input_img, decoded)"
   ]
  },
  {
   "cell_type": "code",
   "execution_count": 3,
   "metadata": {
    "collapsed": true
   },
   "outputs": [],
   "source": [
    "encoder = Model(input_img, encoded)"
   ]
  },
  {
   "cell_type": "code",
   "execution_count": 4,
   "metadata": {
    "collapsed": true
   },
   "outputs": [],
   "source": [
    "encoded_input = Input(shape=(encoding_dim,))\n",
    "decoder_layer = autoencoder.layers[-1]\n",
    "\n",
    "decoder = Model(encoded_input, decoder_layer(encoded_input))"
   ]
  },
  {
   "cell_type": "code",
   "execution_count": 5,
   "metadata": {
    "collapsed": true
   },
   "outputs": [],
   "source": [
    "autoencoder.compile(optimizer='adadelta', loss='binary_crossentropy')"
   ]
  },
  {
   "cell_type": "code",
   "execution_count": 6,
   "metadata": {
    "collapsed": true
   },
   "outputs": [],
   "source": [
    "from keras.datasets import mnist\n",
    "import numpy as np\n",
    "\n",
    "(x_train, _),(x_test, _) = mnist.load_data()"
   ]
  },
  {
   "cell_type": "code",
   "execution_count": 8,
   "metadata": {},
   "outputs": [
    {
     "name": "stdout",
     "output_type": "stream",
     "text": [
      "(60000, 784)\n",
      "(10000, 784)\n"
     ]
    }
   ],
   "source": [
    "x_train = x_train.astype('float32') / 255.\n",
    "x_test = x_test.astype('float') / 255.\n",
    "x_train = x_train.reshape((len(x_train), np.prod(x_train.shape[1:])))\n",
    "x_test = x_test.reshape((len(x_test), np.prod(x_test.shape[1:])))\n",
    "\n",
    "print x_train.shape\n",
    "print x_test.shape"
   ]
  },
  {
   "cell_type": "code",
   "execution_count": 9,
   "metadata": {},
   "outputs": [
    {
     "name": "stdout",
     "output_type": "stream",
     "text": [
      "Train on 60000 samples, validate on 10000 samples\n",
      "Epoch 1/50\n",
      "60000/60000 [==============================] - 4s - loss: 0.3849 - val_loss: 0.2733\n",
      "Epoch 2/50\n",
      "60000/60000 [==============================] - 4s - loss: 0.2667 - val_loss: 0.2568\n",
      "Epoch 3/50\n",
      "60000/60000 [==============================] - 4s - loss: 0.2469 - val_loss: 0.2345\n",
      "Epoch 4/50\n",
      "60000/60000 [==============================] - 4s - loss: 0.2269 - val_loss: 0.2169\n",
      "Epoch 5/50\n",
      "60000/60000 [==============================] - 4s - loss: 0.2114 - val_loss: 0.2033\n",
      "Epoch 6/50\n",
      "60000/60000 [==============================] - 4s - loss: 0.1992 - val_loss: 0.1925\n",
      "Epoch 7/50\n",
      "60000/60000 [==============================] - 4s - loss: 0.1898 - val_loss: 0.1842\n",
      "Epoch 8/50\n",
      "60000/60000 [==============================] - 4s - loss: 0.1824 - val_loss: 0.1777\n",
      "Epoch 9/50\n",
      "60000/60000 [==============================] - 4s - loss: 0.1764 - val_loss: 0.1723\n",
      "Epoch 10/50\n",
      "60000/60000 [==============================] - 4s - loss: 0.1713 - val_loss: 0.1675\n",
      "Epoch 11/50\n",
      "60000/60000 [==============================] - 4s - loss: 0.1668 - val_loss: 0.1632\n",
      "Epoch 12/50\n",
      "60000/60000 [==============================] - 4s - loss: 0.1628 - val_loss: 0.1594\n",
      "Epoch 13/50\n",
      "60000/60000 [==============================] - 4s - loss: 0.1592 - val_loss: 0.1559\n",
      "Epoch 14/50\n",
      "60000/60000 [==============================] - 4s - loss: 0.1559 - val_loss: 0.1528\n",
      "Epoch 15/50\n",
      "60000/60000 [==============================] - 4s - loss: 0.1528 - val_loss: 0.1498\n",
      "Epoch 16/50\n",
      "60000/60000 [==============================] - 4s - loss: 0.1500 - val_loss: 0.1470\n",
      "Epoch 17/50\n",
      "60000/60000 [==============================] - 4s - loss: 0.1473 - val_loss: 0.1445ss: 0.14\n",
      "Epoch 18/50\n",
      "60000/60000 [==============================] - 6s - loss: 0.1448 - val_loss: 0.1421\n",
      "Epoch 19/50\n",
      "60000/60000 [==============================] - 5s - loss: 0.1424 - val_loss: 0.1397\n",
      "Epoch 20/50\n",
      "60000/60000 [==============================] - 4s - loss: 0.1401 - val_loss: 0.1377\n",
      "Epoch 21/50\n",
      "60000/60000 [==============================] - 4s - loss: 0.1380 - val_loss: 0.1355\n",
      "Epoch 22/50\n",
      "60000/60000 [==============================] - 4s - loss: 0.1360 - val_loss: 0.1334\n",
      "Epoch 23/50\n",
      "60000/60000 [==============================] - 4s - loss: 0.1340 - val_loss: 0.1315\n",
      "Epoch 24/50\n",
      "60000/60000 [==============================] - 7s - loss: 0.1322 - val_loss: 0.1296\n",
      "Epoch 25/50\n",
      "60000/60000 [==============================] - 5s - loss: 0.1303 - val_loss: 0.1279\n",
      "Epoch 26/50\n",
      "60000/60000 [==============================] - 4s - loss: 0.1285 - val_loss: 0.1261\n",
      "Epoch 27/50\n",
      "60000/60000 [==============================] - 4s - loss: 0.1268 - val_loss: 0.1244\n",
      "Epoch 28/50\n",
      "60000/60000 [==============================] - 5s - loss: 0.1251 - val_loss: 0.1228\n",
      "Epoch 29/50\n",
      "60000/60000 [==============================] - 6s - loss: 0.1235 - val_loss: 0.1212\n",
      "Epoch 30/50\n",
      "60000/60000 [==============================] - 4s - loss: 0.1220 - val_loss: 0.1196\n",
      "Epoch 31/50\n",
      "60000/60000 [==============================] - 4s - loss: 0.1205 - val_loss: 0.1182\n",
      "Epoch 32/50\n",
      "60000/60000 [==============================] - 4s - loss: 0.1191 - val_loss: 0.1168\n",
      "Epoch 33/50\n",
      "60000/60000 [==============================] - 6s - loss: 0.1177 - val_loss: 0.1155\n",
      "Epoch 34/50\n",
      "60000/60000 [==============================] - 5s - loss: 0.1165 - val_loss: 0.1143\n",
      "Epoch 35/50\n",
      "60000/60000 [==============================] - 5s - loss: 0.1153 - val_loss: 0.1131\n",
      "Epoch 36/50\n",
      "60000/60000 [==============================] - 4s - loss: 0.1141 - val_loss: 0.1120\n",
      "Epoch 37/50\n",
      "60000/60000 [==============================] - 5s - loss: 0.1131 - val_loss: 0.1110\n",
      "Epoch 38/50\n",
      "60000/60000 [==============================] - 4s - loss: 0.1121 - val_loss: 0.1101\n",
      "Epoch 39/50\n",
      "60000/60000 [==============================] - 4s - loss: 0.1112 - val_loss: 0.1091\n",
      "Epoch 40/50\n",
      "60000/60000 [==============================] - 5s - loss: 0.1103 - val_loss: 0.1083\n",
      "Epoch 41/50\n",
      "60000/60000 [==============================] - 5s - loss: 0.1095 - val_loss: 0.1075\n",
      "Epoch 42/50\n",
      "60000/60000 [==============================] - 5s - loss: 0.1088 - val_loss: 0.1068\n",
      "Epoch 43/50\n",
      "60000/60000 [==============================] - 5s - loss: 0.1081 - val_loss: 0.1061\n",
      "Epoch 44/50\n",
      "60000/60000 [==============================] - 6s - loss: 0.1074 - val_loss: 0.1055\n",
      "Epoch 45/50\n",
      "60000/60000 [==============================] - 5s - loss: 0.1068 - val_loss: 0.1049\n",
      "Epoch 46/50\n",
      "60000/60000 [==============================] - 4s - loss: 0.1062 - val_loss: 0.1043\n",
      "Epoch 47/50\n",
      "60000/60000 [==============================] - 4s - loss: 0.1057 - val_loss: 0.1038\n",
      "Epoch 48/50\n",
      "60000/60000 [==============================] - 4s - loss: 0.1052 - val_loss: 0.1033\n",
      "Epoch 49/50\n",
      "60000/60000 [==============================] - 4s - loss: 0.1048 - val_loss: 0.1029ss\n",
      "Epoch 50/50\n",
      "60000/60000 [==============================] - 4s - loss: 0.1043 - val_loss: 0.1024\n"
     ]
    },
    {
     "data": {
      "text/plain": [
       "<keras.callbacks.History at 0x7f72346e6150>"
      ]
     },
     "execution_count": 9,
     "metadata": {},
     "output_type": "execute_result"
    }
   ],
   "source": [
    "autoencoder.fit(x_train, x_train,\n",
    "               epochs = 50,\n",
    "               batch_size = 256,\n",
    "               shuffle = True,\n",
    "               validation_data = (x_test, x_test))"
   ]
  },
  {
   "cell_type": "code",
   "execution_count": 17,
   "metadata": {
    "collapsed": true
   },
   "outputs": [],
   "source": [
    "encoded_imgs = encoder.predict(x_test)\n",
    "decoded_imgs = decoder.predict(encoded_imgs)"
   ]
  },
  {
   "cell_type": "code",
   "execution_count": 18,
   "metadata": {},
   "outputs": [
    {
     "data": {
      "image/png": "[encoded data removed]",
      "text/plain": [
       "<matplotlib.figure.Figure at 0x7f71f94d7b10>"
      ]
     },
     "metadata": {},
     "output_type": "display_data"
    }
   ],
   "source": [
    "import matplotlib.pyplot as plt\n",
    "\n",
    "n = 10\n",
    "plt.figure(figsize = (20,4))\n",
    "for i in range(n):\n",
    "    ax = plt.subplot(2, n, i + 1)\n",
    "    plt.imshow(x_test[i].reshape(28, 28))\n",
    "    plt.gray()\n",
    "    ax.get_xaxis().set_visible(False)\n",
    "    ax.get_yaxis().set_visible(False)\n",
    "    \n",
    "    ax = plt.subplot(2, n, i + 1 + n)\n",
    "    plt.imshow(decoded_imgs[i].reshape(28, 28))\n",
    "    plt.gray()\n",
    "    ax.get_xaxis().set_visible(False)\n",
    "    ax.get_yaxis().set_visible(False)\n",
    "    \n",
    "plt.show()"
   ]
  },
  {
   "cell_type": "markdown",
   "metadata": {},
   "source": [
    "## Deep autoencoder"
   ]
  },
  {
   "cell_type": "code",
   "execution_count": 14,
   "metadata": {
    "collapsed": true
   },
   "outputs": [],
   "source": [
    "input_img = Input(shape=(784,))\n",
    "\n",
    "encoded = Dense(128, activation='relu')(input_img)\n",
    "encoded = Dense(64, activation='relu')(encoded)\n",
    "encoded = Dense(32, activation='relu')(encoded)\n",
    "\n",
    "decoded = Dense(64, activation='relu')(encoded)\n",
    "decoded = Dense(128, activation='relu')(decoded)\n",
    "decoded = Dense(784, activation='sigmoid')(decoded)"
   ]
  },
  {
   "cell_type": "code",
   "execution_count": 15,
   "metadata": {},
   "outputs": [
    {
     "name": "stdout",
     "output_type": "stream",
     "text": [
      "Train on 60000 samples, validate on 10000 samples\n",
      "Epoch 1/100\n",
      "60000/60000 [==============================] - 10s - loss: 0.3619 - val_loss: 0.2639\n",
      "Epoch 2/100\n",
      "60000/60000 [==============================] - 6s - loss: 0.2587 - val_loss: 0.2511\n",
      "Epoch 3/100\n",
      "60000/60000 [==============================] - 6s - loss: 0.2411 - val_loss: 0.2306\n",
      "Epoch 4/100\n",
      "60000/60000 [==============================] - 6s - loss: 0.2223 - val_loss: 0.2096\n",
      "Epoch 5/100\n",
      "60000/60000 [==============================] - 6s - loss: 0.2039 - val_loss: 0.1974\n",
      "Epoch 6/100\n",
      "60000/60000 [==============================] - 8s - loss: 0.1946 - val_loss: 0.1888\n",
      "Epoch 7/100\n",
      "60000/60000 [==============================] - 6s - loss: 0.1877 - val_loss: 0.1841\n",
      "Epoch 8/100\n",
      "60000/60000 [==============================] - 9s - loss: 0.1806 - val_loss: 0.1764\n",
      "Epoch 9/100\n",
      "60000/60000 [==============================] - 8s - loss: 0.1735 - val_loss: 0.1707\n",
      "Epoch 10/100\n",
      "60000/60000 [==============================] - 8s - loss: 0.1682 - val_loss: 0.1645\n",
      "Epoch 11/100\n",
      "60000/60000 [==============================] - 7s - loss: 0.1642 - val_loss: 0.1628\n",
      "Epoch 12/100\n",
      "60000/60000 [==============================] - 7s - loss: 0.1607 - val_loss: 0.1567\n",
      "Epoch 13/100\n",
      "60000/60000 [==============================] - 7s - loss: 0.1571 - val_loss: 0.1537\n",
      "Epoch 14/100\n",
      "60000/60000 [==============================] - 7s - loss: 0.1541 - val_loss: 0.1526\n",
      "Epoch 15/100\n",
      "60000/60000 [==============================] - 7s - loss: 0.1511 - val_loss: 0.1489\n",
      "Epoch 16/100\n",
      "60000/60000 [==============================] - 7s - loss: 0.1487 - val_loss: 0.1460\n",
      "Epoch 17/100\n",
      "60000/60000 [==============================] - 7s - loss: 0.1462 - val_loss: 0.1439\n",
      "Epoch 18/100\n",
      "60000/60000 [==============================] - 7s - loss: 0.1442 - val_loss: 0.1418\n",
      "Epoch 19/100\n",
      "60000/60000 [==============================] - 7s - loss: 0.1424 - val_loss: 0.1395\n",
      "Epoch 20/100\n",
      "60000/60000 [==============================] - 7s - loss: 0.1408 - val_loss: 0.1380\n",
      "Epoch 21/100\n",
      "60000/60000 [==============================] - 7s - loss: 0.1392 - val_loss: 0.1375\n",
      "Epoch 22/100\n",
      "60000/60000 [==============================] - 7s - loss: 0.1378 - val_loss: 0.1347\n",
      "Epoch 23/100\n",
      "60000/60000 [==============================] - 7s - loss: 0.1365 - val_loss: 0.1337\n",
      "Epoch 24/100\n",
      "60000/60000 [==============================] - 7s - loss: 0.1353 - val_loss: 0.1340\n",
      "Epoch 25/100\n",
      "60000/60000 [==============================] - 7s - loss: 0.1344 - val_loss: 0.1320\n",
      "Epoch 26/100\n",
      "60000/60000 [==============================] - 7s - loss: 0.1333 - val_loss: 0.1318\n",
      "Epoch 27/100\n",
      "60000/60000 [==============================] - 7s - loss: 0.1325 - val_loss: 0.1303\n",
      "Epoch 28/100\n",
      "60000/60000 [==============================] - 7s - loss: 0.1315 - val_loss: 0.1311\n",
      "Epoch 29/100\n",
      "60000/60000 [==============================] - 7s - loss: 0.1306 - val_loss: 0.1293\n",
      "Epoch 30/100\n",
      "60000/60000 [==============================] - 7s - loss: 0.1297 - val_loss: 0.1280\n",
      "Epoch 31/100\n",
      "60000/60000 [==============================] - 9s - loss: 0.1287 - val_loss: 0.1268\n",
      "Epoch 32/100\n",
      "60000/60000 [==============================] - 8s - loss: 0.1278 - val_loss: 0.1263\n",
      "Epoch 33/100\n",
      "60000/60000 [==============================] - 7s - loss: 0.1269 - val_loss: 0.1243\n",
      "Epoch 34/100\n",
      "60000/60000 [==============================] - 7s - loss: 0.1261 - val_loss: 0.1247\n",
      "Epoch 35/100\n",
      "60000/60000 [==============================] - 7s - loss: 0.1252 - val_loss: 0.1237\n",
      "Epoch 36/100\n",
      "60000/60000 [==============================] - 7s - loss: 0.1246 - val_loss: 0.1230\n",
      "Epoch 37/100\n",
      "60000/60000 [==============================] - 7s - loss: 0.1237 - val_loss: 0.1216\n",
      "Epoch 38/100\n",
      "60000/60000 [==============================] - 7s - loss: 0.1229 - val_loss: 0.1212\n",
      "Epoch 39/100\n",
      "60000/60000 [==============================] - 7s - loss: 0.1221 - val_loss: 0.1203\n",
      "Epoch 40/100\n",
      "60000/60000 [==============================] - 7s - loss: 0.1215 - val_loss: 0.1189\n",
      "Epoch 41/100\n",
      "60000/60000 [==============================] - 8s - loss: 0.1206 - val_loss: 0.1188\n",
      "Epoch 42/100\n",
      "60000/60000 [==============================] - 6s - loss: 0.1199 - val_loss: 0.1180\n",
      "Epoch 43/100\n",
      "60000/60000 [==============================] - 9s - loss: 0.1192 - val_loss: 0.1181\n",
      "Epoch 44/100\n",
      "60000/60000 [==============================] - 8s - loss: 0.1185 - val_loss: 0.1168\n",
      "Epoch 45/100\n",
      "60000/60000 [==============================] - 7s - loss: 0.1178 - val_loss: 0.1154\n",
      "Epoch 46/100\n",
      "60000/60000 [==============================] - 6s - loss: 0.1172 - val_loss: 0.1160\n",
      "Epoch 47/100\n",
      "60000/60000 [==============================] - 7s - loss: 0.1167 - val_loss: 0.1158\n",
      "Epoch 48/100\n",
      "60000/60000 [==============================] - 7s - loss: 0.1161 - val_loss: 0.1144\n",
      "Epoch 49/100\n",
      "60000/60000 [==============================] - 11s - loss: 0.1155 - val_loss: 0.1137\n",
      "Epoch 50/100\n",
      "60000/60000 [==============================] - 6s - loss: 0.1149 - val_loss: 0.1131\n",
      "Epoch 51/100\n",
      "60000/60000 [==============================] - 6s - loss: 0.1144 - val_loss: 0.1135\n",
      "Epoch 52/100\n",
      "60000/60000 [==============================] - 7s - loss: 0.1138 - val_loss: 0.1124\n",
      "Epoch 53/100\n",
      "60000/60000 [==============================] - 6s - loss: 0.1132 - val_loss: 0.1124\n",
      "Epoch 54/100\n",
      "60000/60000 [==============================] - 6s - loss: 0.1128 - val_loss: 0.1125\n",
      "Epoch 55/100\n",
      "60000/60000 [==============================] - 7s - loss: 0.1122 - val_loss: 0.1118\n",
      "Epoch 56/100\n",
      "60000/60000 [==============================] - 7s - loss: 0.1116 - val_loss: 0.1105\n",
      "Epoch 57/100\n",
      "60000/60000 [==============================] - 6s - loss: 0.1113 - val_loss: 0.1096\n",
      "Epoch 58/100\n",
      "60000/60000 [==============================] - 6s - loss: 0.1107 - val_loss: 0.1101\n",
      "Epoch 59/100\n",
      "60000/60000 [==============================] - 7s - loss: 0.1103 - val_loss: 0.1099\n",
      "Epoch 60/100\n",
      "60000/60000 [==============================] - 6s - loss: 0.1099 - val_loss: 0.1083\n",
      "Epoch 61/100\n",
      "60000/60000 [==============================] - 7s - loss: 0.1096 - val_loss: 0.1083\n",
      "Epoch 62/100\n",
      "60000/60000 [==============================] - 7s - loss: 0.1091 - val_loss: 0.1078\n",
      "Epoch 63/100\n",
      "60000/60000 [==============================] - 8s - loss: 0.1089 - val_loss: 0.1075\n",
      "Epoch 64/100\n",
      "60000/60000 [==============================] - 10s - loss: 0.1085 - val_loss: 0.1064\n",
      "Epoch 65/100\n",
      "60000/60000 [==============================] - 6s - loss: 0.1081 - val_loss: 0.1061\n",
      "Epoch 66/100\n",
      "60000/60000 [==============================] - 7s - loss: 0.1077 - val_loss: 0.1059\n",
      "Epoch 67/100\n",
      "60000/60000 [==============================] - 7s - loss: 0.1074 - val_loss: 0.1056\n",
      "Epoch 68/100\n",
      "60000/60000 [==============================] - 7s - loss: 0.1072 - val_loss: 0.1070\n",
      "Epoch 69/100\n",
      "60000/60000 [==============================] - 6s - loss: 0.1068 - val_loss: 0.1055\n",
      "Epoch 70/100\n",
      "60000/60000 [==============================] - 9s - loss: 0.1065 - val_loss: 0.1066\n",
      "Epoch 71/100\n",
      "60000/60000 [==============================] - 7s - loss: 0.1061 - val_loss: 0.1047\n",
      "Epoch 72/100\n",
      "60000/60000 [==============================] - 8s - loss: 0.1059 - val_loss: 0.1050\n",
      "Epoch 73/100\n",
      "60000/60000 [==============================] - 12s - loss: 0.1057 - val_loss: 0.1043\n",
      "Epoch 74/100\n",
      "60000/60000 [==============================] - 7s - loss: 0.1053 - val_loss: 0.1039\n",
      "Epoch 75/100\n",
      "60000/60000 [==============================] - 7s - loss: 0.1052 - val_loss: 0.1029\n",
      "Epoch 76/100\n",
      "60000/60000 [==============================] - 6s - loss: 0.1050 - val_loss: 0.1034\n",
      "Epoch 77/100\n",
      "60000/60000 [==============================] - 7s - loss: 0.1046 - val_loss: 0.1049\n",
      "Epoch 78/100\n",
      "60000/60000 [==============================] - 6s - loss: 0.1045 - val_loss: 0.1024\n",
      "Epoch 79/100\n",
      "60000/60000 [==============================] - 6s - loss: 0.1042 - val_loss: 0.1028\n",
      "Epoch 80/100\n",
      "60000/60000 [==============================] - 6s - loss: 0.1040 - val_loss: 0.1033\n",
      "Epoch 81/100\n",
      "60000/60000 [==============================] - 6s - loss: 0.1038 - val_loss: 0.1028\n",
      "Epoch 82/100\n",
      "60000/60000 [==============================] - 6s - loss: 0.1035 - val_loss: 0.1025\n",
      "Epoch 83/100\n",
      "60000/60000 [==============================] - 6s - loss: 0.1033 - val_loss: 0.1026\n",
      "Epoch 84/100\n",
      "60000/60000 [==============================] - 7s - loss: 0.1033 - val_loss: 0.1016\n",
      "Epoch 85/100\n"
     ]
    },
    {
     "name": "stdout",
     "output_type": "stream",
     "text": [
      "60000/60000 [==============================] - 6s - loss: 0.1030 - val_loss: 0.1015\n",
      "Epoch 86/100\n",
      "60000/60000 [==============================] - 6s - loss: 0.1028 - val_loss: 0.1012\n",
      "Epoch 87/100\n",
      "60000/60000 [==============================] - 6s - loss: 0.1026 - val_loss: 0.1012\n",
      "Epoch 88/100\n",
      "60000/60000 [==============================] - 6s - loss: 0.1024 - val_loss: 0.1024\n",
      "Epoch 89/100\n",
      "60000/60000 [==============================] - 6s - loss: 0.1023 - val_loss: 0.1013\n",
      "Epoch 90/100\n",
      "60000/60000 [==============================] - 6s - loss: 0.1021 - val_loss: 0.1017\n",
      "Epoch 91/100\n",
      "60000/60000 [==============================] - 6s - loss: 0.1020 - val_loss: 0.1010\n",
      "Epoch 92/100\n",
      "60000/60000 [==============================] - 8s - loss: 0.1019 - val_loss: 0.1009\n",
      "Epoch 93/100\n",
      "60000/60000 [==============================] - 10s - loss: 0.1016 - val_loss: 0.1016\n",
      "Epoch 94/100\n",
      "60000/60000 [==============================] - 6s - loss: 0.1014 - val_loss: 0.0999\n",
      "Epoch 95/100\n",
      "60000/60000 [==============================] - 6s - loss: 0.1013 - val_loss: 0.1026\n",
      "Epoch 96/100\n",
      "60000/60000 [==============================] - 6s - loss: 0.1012 - val_loss: 0.1001\n",
      "Epoch 97/100\n",
      "60000/60000 [==============================] - 10s - loss: 0.1012 - val_loss: 0.0998\n",
      "Epoch 98/100\n",
      "60000/60000 [==============================] - 9s - loss: 0.1008 - val_loss: 0.1001\n",
      "Epoch 99/100\n",
      "60000/60000 [==============================] - 6s - loss: 0.1006 - val_loss: 0.0997\n",
      "Epoch 100/100\n",
      "60000/60000 [==============================] - 6s - loss: 0.1006 - val_loss: 0.1000\n"
     ]
    },
    {
     "data": {
      "text/plain": [
       "<keras.callbacks.History at 0x7f71f9e25950>"
      ]
     },
     "execution_count": 15,
     "metadata": {},
     "output_type": "execute_result"
    }
   ],
   "source": [
    "autoencoder = Model(input_img, decoded)\n",
    "autoencoder.compile(optimizer='adadelta', loss='binary_crossentropy')\n",
    "\n",
    "autoencoder.fit(x_train, x_train, epochs=100, batch_size=256, shuffle=True, validation_data=(x_test, x_test))"
   ]
  }
 ],
 "metadata": {
  "kernelspec": {
   "display_name": "Python [conda env:annotation_venv]",
   "language": "python",
   "name": "conda-env-annotation_venv-py"
  },
  "language_info": {
   "codemirror_mode": {
    "name": "ipython",
    "version": 2
   },
   "file_extension": ".py",
   "mimetype": "text/x-python",
   "name": "python",
   "nbconvert_exporter": "python",
   "pygments_lexer": "ipython2",
   "version": "2.7.14"
  }
 },
 "nbformat": 4,
 "nbformat_minor": 2
}
